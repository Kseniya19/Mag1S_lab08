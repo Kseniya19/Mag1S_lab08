{
 "cells": [
  {
   "cell_type": "code",
   "execution_count": 1,
   "id": "0e3de530",
   "metadata": {},
   "outputs": [
    {
     "name": "stdout",
     "output_type": "stream",
     "text": [
      "[6, 9, 1, 3, 4]\n"
     ]
    }
   ],
   "source": [
    "import math\n",
    "u = '12345'\n",
    "v = '56789'\n",
    "b = 10\n",
    "n = 5\n",
    "# алгоритм 1\n",
    "j = n\n",
    "k = 0\n",
    "w = list()\n",
    "for i in range(1, n+1):\n",
    "    w.append(\n",
    "        (int(u[n-i]) + int(v[n-i]) + k) % b\n",
    "    )\n",
    "    k = (int(u[n-i]) + int(v[n-i]) + k) // b\n",
    "    j = j - 1\n",
    "w.reverse()\n",
    "print(w)"
   ]
  },
  {
   "cell_type": "code",
   "execution_count": 2,
   "id": "174f568c",
   "metadata": {},
   "outputs": [
    {
     "name": "stdout",
     "output_type": "stream",
     "text": [
      "[4, 4, 4, 4, 4]\n"
     ]
    }
   ],
   "source": [
    "# алгоритм 2\n",
    "u = '56789'\n",
    "v = '12345'\n",
    "j = n\n",
    "k = 0\n",
    "w = list()\n",
    "for i in range(1, n+1):\n",
    "    w.append(\n",
    "        (int(u[n-i]) - int(v[n-i]) + k) % b\n",
    "    )\n",
    "    k = (int(u[n-i]) - int(v[n-i]) + k) // b\n",
    "    j = j - 1\n",
    "w.reverse()\n",
    "print(w)"
   ]
  },
  {
   "cell_type": "code",
   "execution_count": 3,
   "id": "7179caae",
   "metadata": {},
   "outputs": [],
   "source": [
    "# алгоритм 3\n",
    "u = '123456'\n",
    "v = '7890'\n",
    "n = 6\n",
    "m = 4\n",
    "w = list()\n",
    "for i in range(m+n):\n",
    "    w.append(0)\n",
    "j = m"
   ]
  },
  {
   "cell_type": "code",
   "execution_count": 4,
   "id": "7c292f36",
   "metadata": {},
   "outputs": [
    {
     "name": "stdout",
     "output_type": "stream",
     "text": [
      "[0, 0, 0, 0, 0, 0, 0.3999999999999986, 4, 0, 0]\n"
     ]
    }
   ],
   "source": [
    "def fun1():\n",
    "    global v\n",
    "    global w\n",
    "    global j\n",
    "    if j == m:\n",
    "        j -= 1\n",
    "    if int(v[j]) == 0:\n",
    "        w[j] = 0\n",
    "        fun4()\n",
    "\n",
    "def fun2():\n",
    "    global k\n",
    "    global t\n",
    "    global i\n",
    "    if i == n:\n",
    "        i -= 1\n",
    "    t = int(u[i]) * int(v[j]) + w[i+j] + k\n",
    "    w[i+j] = t % b\n",
    "    k = t / b\n",
    "\n",
    "def fun3():\n",
    "    global i\n",
    "    global w\n",
    "    global j\n",
    "    global k\n",
    "    i -= 1\n",
    "    if i > 0:\n",
    "        fun2()\n",
    "    else:\n",
    "        w[j] = k\n",
    "\n",
    "def fun4():\n",
    "    global j\n",
    "    global w\n",
    "    j -= 1\n",
    "    if j > 0:\n",
    "        fun1()\n",
    "    if j == 0:\n",
    "        print(w)\n",
    "\n",
    "fun1()\n",
    "i = n\n",
    "k = 0\n",
    "t = 1\n",
    "fun2()\n",
    "fun3()\n",
    "fun4()\n",
    "print(w)"
   ]
  },
  {
   "cell_type": "code",
   "execution_count": 5,
   "id": "55723f1c",
   "metadata": {},
   "outputs": [
    {
     "name": "stdout",
     "output_type": "stream",
     "text": [
      "[8, 3, 1, 4, 0, 2, 0, 5, 0, 0, 0]\n"
     ]
    }
   ],
   "source": [
    "# алгоритм 4\n",
    "u4 = '12345'\n",
    "n = 5\n",
    "v4 = '6789'\n",
    "m = 4\n",
    "b = 10\n",
    "w1 = list()\n",
    "for i in range(m+n+2):\n",
    "    w1.append(0)\n",
    "t1 = 0\n",
    "for s1 in range(0, m+n):\n",
    "    for i1 in range(0, s1+1):\n",
    "        if n-i1 > n or m-s1+i1 > m or n-i1 < 0 or m-s1+i1 < 0 or m-s1+i1-1 < 0:\n",
    "            continue\n",
    "        t1 = t1 + (int(u[n-i1-1]) * int(v[m-s1+i1-1]))\n",
    "    w1[m+n-s1-1] = t1 % b\n",
    "    t1 = math.floor(t1 / b)\n",
    "print(w1)"
   ]
  },
  {
   "cell_type": "code",
   "execution_count": 7,
   "id": "d08cf365",
   "metadata": {},
   "outputs": [
    {
     "name": "stdout",
     "output_type": "stream",
     "text": [
      "[0, 2, 9] -39899091\n"
     ]
    }
   ],
   "source": [
    "# алгоритм 5\n",
    "u = '12346789'\n",
    "n = 7\n",
    "v = '56789'\n",
    "t = 4\n",
    "b = 10\n",
    "q = list()\n",
    "for j in range(n-t):\n",
    "    q.append(0)\n",
    "r = list()\n",
    "for j in range(t):\n",
    "    r.append(0)\n",
    "\n",
    "while int(u) >= int(v) * (b**(n-t)):\n",
    "    q[n-t] = q[n-t] + 1\n",
    "    u = int(u) - int(v) * (b**(n-t))\n",
    "u = str(u)\n",
    "for i in range(n, t+1, -1):\n",
    "    v = str(v)\n",
    "    u = str(u)\n",
    "    if int(u[i]) > int(v[t]):\n",
    "        q[i-t-1] = b - 1\n",
    "    else:\n",
    "        q[i-t-1] = math.floor((int(u[i]) * b + int(u[i-1])) / int(v[t]))\n",
    "    \n",
    "    while (int(q[i-t-1])*(int(v[t])*b+int(v[t-1]))>int(u[i])*(b**2)+int(u[i-1])*b+int(u[i-2])):\n",
    "        q[i-t-1] = q[i-t-1] - 1\n",
    "    u = (int(u) - q[i-t-1] * b**(i-t-1) * int(v))\n",
    "    if u < 0:\n",
    "        u = int(u) + int(v) * (b**(i-t-1))\n",
    "        q[i-t-1] = q[i-t-1] - 1\n",
    "r = u\n",
    "print(q, r)"
   ]
  },
  {
   "cell_type": "code",
   "execution_count": null,
   "id": "f584e43b",
   "metadata": {},
   "outputs": [],
   "source": []
  }
 ],
 "metadata": {
  "kernelspec": {
   "display_name": "Python 3 (ipykernel)",
   "language": "python",
   "name": "python3"
  },
  "language_info": {
   "codemirror_mode": {
    "name": "ipython",
    "version": 3
   },
   "file_extension": ".py",
   "mimetype": "text/x-python",
   "name": "python",
   "nbconvert_exporter": "python",
   "pygments_lexer": "ipython3",
   "version": "3.9.13"
  }
 },
 "nbformat": 4,
 "nbformat_minor": 5
}
